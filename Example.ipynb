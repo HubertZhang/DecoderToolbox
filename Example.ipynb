{
 "cells": [
  {
   "cell_type": "code",
   "execution_count": 3,
   "metadata": {
    "collapsed": true,
    "pycharm": {
     "name": "#%% \n",
     "is_executing": false
    }
   },
   "outputs": [],
   "source": [
    "import decoder\n",
    "import base64"
   ]
  },
  {
   "cell_type": "code",
   "execution_count": 2,
   "outputs": [],
   "source": [
    "a = \"6987728472827580797869738273677978698472826582\"\n",
    "\n",
    "print(a)\n",
    "print(a[::-1])\n",
    "\n",
    "print(len(a))"
   ],
   "metadata": {
    "collapsed": false,
    "pycharm": {
     "name": "#%%\n",
     "is_executing": false
    }
   }
  },
  {
   "cell_type": "code",
   "execution_count": null,
   "outputs": [],
   "source": [
    "# rot\n",
    "\n",
    "decoder.print_all_rot(a)\n",
    "decoder.rot(a,13)"
   ],
   "metadata": {
    "collapsed": false,
    "pycharm": {
     "name": "#%% \n"
    }
   }
  },
  {
   "cell_type": "code",
   "execution_count": null,
   "outputs": [],
   "source": [
    "# grid, 栅栏密码\n",
    "\n",
    "decoder.read_all_grid(a)"
   ],
   "metadata": {
    "collapsed": false,
    "pycharm": {
     "name": "#%% \n"
    }
   }
  },
  {
   "cell_type": "code",
   "execution_count": 4,
   "outputs": [],
   "source": [
    "# polybius\n",
    "\n",
    "decoder.polybius([int(x) for x in decoder.divide_string(\"132122141211122211112221231111132212211122114321234232134\")])"
   ],
   "metadata": {
    "collapsed": false,
    "pycharm": {
     "name": "#%%\n",
     "is_executing": false
    }
   }
  },
  {
   "cell_type": "code",
   "execution_count": null,
   "outputs": [],
   "source": [
    "# util, 实用工具简介 - divide_string\n",
    "\n",
    "print(decoder.divide_string(\"abcdefg\"))\n",
    "print(decoder.divide_string(\"abcdefg\", 3))\n",
    "print(decoder.divide_number_string(\"11223344\"))\n",
    "print(decoder.divide_number_string(\"111222333444\", length=3, base=5))"
   ],
   "metadata": {
    "collapsed": false,
    "pycharm": {
     "name": "#%%\n"
    }
   }
  },
  {
   "cell_type": "code",
   "execution_count": null,
   "outputs": [],
   "source": [
    "# atbash, keyboard mirror 各种默认的字符替换密码\n",
    "\n",
    "print(decoder.atbash_letter(a))\n",
    "print(decoder.atbash(a, zero_to_zero=False))\n",
    "print(decoder.atbash(a))\n",
    "print(decoder.mirror(a))\n",
    "print(decoder.vmirror(a))\n",
    "print(decoder.vmirror(decoder.mirror(a)))\n",
    "\n",
    "# 16进制 atbash, 只适用于 16进制字符串\n",
    "# print(decoder.hex_atbash(a)"
   ],
   "metadata": {
    "collapsed": false,
    "pycharm": {
     "name": "#%%\n"
    }
   }
  },
  {
   "cell_type": "code",
   "execution_count": null,
   "outputs": [],
   "source": [
    "# railfence\n",
    "print(decoder.encode_railfence(a))\n",
    "print(decoder.encode_railfence(a,4))\n",
    "print(decoder.encode_railfence(a,5))\n",
    "print(decoder.decode_railfence(a))\n",
    "print(decoder.decode_railfence(a,4))\n",
    "print(decoder.decode_railfence(a,5))"
   ],
   "metadata": {
    "collapsed": false,
    "pycharm": {
     "name": "#%%\n"
    }
   }
  },
  {
   "cell_type": "code",
   "execution_count": null,
   "outputs": [],
   "source": [
    "# base64类\n",
    "\n",
    "print(base64.b64decode(a))\n",
    "# print(base64.b32decode(a))\n",
    "# print(base64.b16decode(a))\n",
    "# print(base64.a85decode(a))\n",
    "# print(base64.b64encode(a.encode(\"ascii\")))\n",
    "# print(base64.b32encode(a.encode(\"ascii\")))"
   ],
   "metadata": {
    "collapsed": false,
    "pycharm": {
     "name": "#%%\n"
    }
   }
  },
  {
   "cell_type": "code",
   "execution_count": 5,
   "outputs": [],
   "source": [
    "# skip 将原序列逐一等分\n",
    "\n",
    "print(decoder.skip(\"ababababa\"))\n",
    "print(decoder.skip(\"abcabcabc\", 3))"
   ],
   "metadata": {
    "collapsed": false,
    "pycharm": {
     "name": "#%%\n",
     "is_executing": false
    }
   }
  },
  {
   "cell_type": "code",
   "execution_count": null,
   "outputs": [],
   "source": [
    "# 数字转换字母\n",
    "\n",
    "# ''.join([chr(int(x)+ord('a')-1) for x in a.split(\" \")])\n",
    "# ''.join([chr(int(x)) for x in a.split(\" \")])\n",
    "# ''.join([chr(int(x, 16)) for x in decoder.divide_string(a)])\n",
    "# ''.join([chr(int(x, 2)) for x in decoder.divide_string(a, 7)])"
   ],
   "metadata": {
    "collapsed": false,
    "pycharm": {
     "name": "#%%\n"
    }
   }
  },
  {
   "cell_type": "code",
   "execution_count": null,
   "outputs": [],
   "source": [
    "# Morse 相关\n",
    "\n",
    "print(a)\n",
    "print(decoder.decode_morse(a))\n",
    "print(decoder.decode_morse(decoder.flip_morse_string(a)))\n",
    "print(decoder.decode_morse(a[::-1])[::-1])\n",
    "print(decoder.decode_morse(decoder.flip_morse_string(a[::-1]))[::-1])\n",
    "# print(len(decoder.encode_morse(a, sep=\"\")))\n",
    "# print(decoder.encode_morse(a, sep=' ')[::-1])\n",
    "# print(decoder.flip_morse_string(decoder.encode_morse(a, sep='')))\n",
    "print(decoder.decode_morse((decoder.encode_morse(a)[::-1])))\n",
    "print(decoder.decode_morse(decoder.flip_morse_string(decoder.encode_morse(a))))\n",
    "print(decoder.decode_morse(decoder.flip_morse_string(decoder.encode_morse(a)[::-1]))[::-1])"
   ],
   "metadata": {
    "collapsed": false,
    "pycharm": {
     "name": "#%%\n"
    }
   }
  },
  {
   "cell_type": "code",
   "execution_count": null,
   "outputs": [],
   "source": [
    "# vigenere 衍生\n",
    "\n",
    "key = \"a\"\n",
    "print(decoder.decode_vigenere(a, 'a'))\n",
    "print(decoder.decode_vigenere(a, 'abcdefghijklmnopqrstuvwxyz'))\n",
    "print(decoder.decode_vigenere(a, 'zb'))\n",
    "print(decoder.decode_vigenere(a, 'bz'))\n",
    "\n",
    "print(decoder.decode_vigenere(a, key))\n",
    "print(decoder.encode_vigenere(a, key))\n",
    "print(decoder.decode_autokey(a, key))\n",
    "print(decoder.encode_autokey(a, key))\n",
    "print(decoder.decode_beaufort(a, key))\n",
    "print(decoder.encode_beaufort(a, key))"
   ],
   "metadata": {
    "collapsed": false,
    "pycharm": {
     "name": "#%%\n"
    }
   }
  },
  {
   "cell_type": "code",
   "execution_count": 9,
   "outputs": [],
   "source": [
    "# 盲文相关\n",
    "\n",
    "b = '.-....----.........-------.-.-..--.-.....--------.......--.-..-.--'\n",
    "decoder.print_braille_string(b)\n",
    "t = []\n",
    "for i in range(0, len(b), 6):\n",
    "    try:\n",
    "        t1 = decoder.decode_braille_alphabet(b[i:i+6])\n",
    "    except KeyError:\n",
    "        t1 = decoder.decode_braille_alphabet(decoder.flip_morse_string(b[i:i+6]))\n",
    "    t.append(t1)\n",
    "print(t)"
   ],
   "metadata": {
    "collapsed": false,
    "pycharm": {
     "name": "#%%\n",
     "is_executing": false
    }
   }
  }
 ],
 "metadata": {
  "kernelspec": {
   "display_name": "Python 3",
   "language": "python",
   "name": "python3"
  },
  "language_info": {
   "codemirror_mode": {
    "name": "ipython",
    "version": 2
   },
   "file_extension": ".py",
   "mimetype": "text/x-python",
   "name": "python",
   "nbconvert_exporter": "python",
   "pygments_lexer": "ipython2",
   "version": "2.7.6"
  },
  "pycharm": {
   "stem_cell": {
    "cell_type": "raw",
    "source": [],
    "metadata": {
     "collapsed": false
    }
   }
  }
 },
 "nbformat": 4,
 "nbformat_minor": 0
}